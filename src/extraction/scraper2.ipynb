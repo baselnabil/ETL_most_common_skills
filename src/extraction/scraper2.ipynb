{
 "cells": [
  {
   "cell_type": "code",
   "execution_count": 2,
   "metadata": {},
   "outputs": [],
   "source": [
    "import requests\n",
    "from bs4 import BeautifulSoup\n",
    "import csv\n",
    "from itertools import zip_longest\n",
    "import lxml\n"
   ]
  },
  {
   "cell_type": "code",
   "execution_count": 3,
   "metadata": {},
   "outputs": [],
   "source": [
    "#lists\n",
    "jobTitles=[]\n",
    "companyNames=[]\n",
    "locations=[]\n",
    "experiences=[]\n",
    "#fetch website\n",
    "pageNumber= 0"
   ]
  },
  {
   "cell_type": "code",
   "execution_count": 4,
   "metadata": {},
   "outputs": [
    {
     "name": "stdout",
     "output_type": "stream",
     "text": [
      "page switched\n",
      "page switched\n",
      "page switched\n",
      "page switched\n",
      "page switched\n",
      "page switched\n",
      "page switched\n",
      "page switched\n",
      "page switched\n",
      "page switched\n",
      "page switched\n",
      "page switched\n",
      "page switched\n",
      "end\n"
     ]
    }
   ],
   "source": [
    "\n",
    "while True:\n",
    "    result = requests.get(f\"https://wuzzuf.net/search/jobs/?a=hpb&q=python&start={pageNumber}\")\n",
    "    #get the content\n",
    "    src = result.content\n",
    "    #soup\n",
    "    soup = BeautifulSoup(src,\"lxml\")\n",
    "    #get elements\n",
    "    jobTitle= soup.find_all(\"a\",{\"class\":\"css-o171kl\",\"rel\":\"noreferrer\"})\n",
    "    companyName = soup.find_all(\"a\",{\"class\":\"css-17s97q8\"})\n",
    "    location = soup.find_all(\"span\",{\"class\":\"css-5wys0k\"})\n",
    "    experience = soup.find_all(\"div\",{\"class\":\"css-1lh32fc\"})\n",
    "\n",
    "    for i in range(len(jobTitle)):\n",
    "        jobTitles.append(jobTitle[i].text)\n",
    "        companyNames.append(companyName[i].text)\n",
    "        locations.append(location[i].text)\n",
    "\n",
    "    for exp in experience:\n",
    "        filtering = exp.nextSibling.text\n",
    "        experiences.append(filtering)\n",
    "    pageLimit = int(soup.find(\"strong\").text)\n",
    "    if (pageNumber> pageLimit//15):\n",
    "        print(\"end\")\n",
    "        break\n",
    "    pageNumber+=1\n",
    "    print(\"page switched\")\n"
   ]
  },
  {
   "cell_type": "code",
   "execution_count": 5,
   "metadata": {},
   "outputs": [],
   "source": [
    "fileLists = [jobTitles,companyNames,locations,experiences]\n",
    "export =zip_longest(*fileLists)\n",
    "with open(\"../../data/raw/data2.csv\",\"w\") as file:\n",
    "    wr=csv.writer(file)\n",
    "    wr.writerow([\"Jobtitle\",\"Companyname\",\"Locations\",\"Skills\"])\n",
    "    wr.writerows(export)\n"
   ]
  }
 ],
 "metadata": {
  "kernelspec": {
   "display_name": "env",
   "language": "python",
   "name": "python3"
  },
  "language_info": {
   "codemirror_mode": {
    "name": "ipython",
    "version": 3
   },
   "file_extension": ".py",
   "mimetype": "text/x-python",
   "name": "python",
   "nbconvert_exporter": "python",
   "pygments_lexer": "ipython3",
   "version": "3.12.3"
  }
 },
 "nbformat": 4,
 "nbformat_minor": 2
}
