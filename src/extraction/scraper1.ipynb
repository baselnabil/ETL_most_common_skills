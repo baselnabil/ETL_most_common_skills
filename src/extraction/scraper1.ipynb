{
 "cells": [
  {
   "cell_type": "code",
   "execution_count": 2,
   "metadata": {},
   "outputs": [],
   "source": [
    "import csv\n",
    "from jobspy import scrape_jobs\n",
    "import pandas as pd "
   ]
  },
  {
   "cell_type": "code",
   "execution_count": 5,
   "metadata": {},
   "outputs": [
    {
     "name": "stderr",
     "output_type": "stream",
     "text": [
      "2024-08-23 21:33:45,087 - JobSpy - INFO - Indeed search page: 1\n",
      "2024-08-23 21:33:45,088 - JobSpy - INFO - LinkedIn search page: 1\n",
      "2024-08-23 21:33:45,487 - JobSpy - INFO - ZipRecruiter search page: 1\n",
      "2024-08-23 21:33:46,685 - JobSpy - INFO - Linkedin finished scraping\n",
      "2024-08-23 21:33:47,031 - JobSpy - INFO - Glassdoor search page: 1\n",
      "2024-08-23 21:33:47,046 - JobSpy - INFO - Indeed finished scraping\n",
      "2024-08-23 21:33:49,191 - JobSpy - INFO - ZipRecruiter finished scraping\n",
      "2024-08-23 21:33:54,160 - JobSpy - INFO - Glassdoor finished scraping\n"
     ]
    },
    {
     "name": "stdout",
     "output_type": "stream",
     "text": [
      "Found 4 jobs\n",
      "                       id           site  \\\n",
      "3           1009417686269      glassdoor   \n",
      "1        c3a34a83b69ee4b1         indeed   \n",
      "0              4002140721       linkedin   \n",
      "2  c2oeV2esdZ3zTeW-vxd2ZQ  zip_recruiter   \n",
      "\n",
      "                                             job_url  \\\n",
      "3  https://www.glassdoor.com/job-listing/j?jl=100...   \n",
      "1  https://www.indeed.com/viewjob?jk=c3a34a83b69e...   \n",
      "0      https://www.linkedin.com/jobs/view/4002140721   \n",
      "2  https://www.ziprecruiter.com/jobs//j?lvk=c2oeV...   \n",
      "\n",
      "                                      job_url_direct  \\\n",
      "3                                                NaN   \n",
      "1  https://sonataone.darwinbox.in/ms/candidate/ca...   \n",
      "0                                                NaN   \n",
      "2                                                NaN   \n",
      "\n",
      "                                               title  \\\n",
      "3  Infrastructure Engineer - Cloud and Automation...   \n",
      "1                                    AWS DevOps Lead   \n",
      "0            Software Engineer - Early Career (2025)   \n",
      "2      Software Engineer Position (Williamsport, PA)   \n",
      "\n",
      "                    company             location  job_type date_posted  \\\n",
      "3           VANGUARD DIRECT         New York, NY       NaN  2024-08-23   \n",
      "1           Sonata Software  Jersey City, NJ, US  contract  2024-08-23   \n",
      "0                     Figma         New York, NY       NaN  2024-08-19   \n",
      "2  Discovery Machine®, Inc.    New York, NY, USA  fulltime  2024-08-23   \n",
      "\n",
      "  salary_source  ...                                        company_url  \\\n",
      "3   direct_data  ...  https://www.glassdoor.com/Overview/W-EI_IE1945...   \n",
      "1   direct_data  ...         https://www.indeed.com/cmp/Sonata-Software   \n",
      "0           NaN  ...             https://www.linkedin.com/company/figma   \n",
      "2   direct_data  ...                                                NaN   \n",
      "\n",
      "                 company_url_direct  company_addresses company_num_employees  \\\n",
      "3                               NaN                NaN                   NaN   \n",
      "1  https://www.sonata-software.com/          Bengaluru       5,001 to 10,000   \n",
      "0                               NaN                NaN                   NaN   \n",
      "2                               NaN                NaN                   NaN   \n",
      "\n",
      "      company_revenue company_description  \\\n",
      "3                 NaN                None   \n",
      "1  $500M to $1B (USD)                None   \n",
      "0                 NaN                None   \n",
      "2                 NaN                None   \n",
      "\n",
      "                                      logo_photo_url  \\\n",
      "3  https://media.glassdoor.com/sql/194581/vanguar...   \n",
      "1  https://d2q79iu7y748jz.cloudfront.net/s/_squar...   \n",
      "0                                                NaN   \n",
      "2                                                NaN   \n",
      "\n",
      "                                    banner_photo_url    ceo_name ceo_photo_url  \n",
      "3                                                NaN         NaN           NaN  \n",
      "1  https://d2q79iu7y748jz.cloudfront.net/s/_heade...  Samir Dhir                \n",
      "0                                                NaN         NaN           NaN  \n",
      "2                                                NaN         NaN           NaN  \n",
      "\n",
      "[4 rows x 31 columns]\n"
     ]
    }
   ],
   "source": [
    "jobs = scrape_jobs(\n",
    "    site_name=[\"indeed\", \"linkedin\", \"zip_recruiter\", \"glassdoor\"],\n",
    "    search_term=\"Data engineer\",\n",
    "    location=\"New York, NY\",\n",
    "    results_wanted=1,\n",
    "    hours_old=168, # (only Linkedin/Indeed is hour specific, others round up to days old)\n",
    "    country_indeed='USA',  # only needed for indeed / glassdoor\n",
    "    \n",
    "    # linkedin_fetch_description=True # get full description , direct job url , company industry and job level (seniority level) for linkedin (slower)\n",
    "    # proxies=[\"208.195.175.46:65095\", \"208.195.175.45:65095\", \"localhost\"],\n",
    "    \n",
    ")\n",
    "print(f\"Found {len(jobs)} jobs\")\n",
    "print(jobs.head())\n",
    "cleaned_df = pd.DataFrame(jobs)\n",
    "cleaned_df=cleaned_df.drop('description',axis=1)\n",
    "cleaned_df.to_csv(\"../../data/raw/data1.csv\", quoting=csv.QUOTE_NONNUMERIC, escapechar=\"\\\\\", index=False) # to_excel"
   ]
  }
 ],
 "metadata": {
  "kernelspec": {
   "display_name": "Python 3 (ipykernel)",
   "language": "python",
   "name": "python3"
  },
  "language_info": {
   "codemirror_mode": {
    "name": "ipython",
    "version": 3
   },
   "file_extension": ".py",
   "mimetype": "text/x-python",
   "name": "python",
   "nbconvert_exporter": "python",
   "pygments_lexer": "ipython3",
   "version": "3.12.3"
  }
 },
 "nbformat": 4,
 "nbformat_minor": 2
}
