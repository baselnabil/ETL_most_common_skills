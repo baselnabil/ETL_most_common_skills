{
 "cells": [
  {
   "cell_type": "code",
   "execution_count": 2,
   "metadata": {},
   "outputs": [],
   "source": [
    "import csv\n",
    "from jobspy import scrape_jobs"
   ]
  },
  {
   "cell_type": "code",
   "execution_count": 4,
   "metadata": {},
   "outputs": [
    {
     "name": "stderr",
     "output_type": "stream",
     "text": [
      "2024-08-22 15:38:33,877 - JobSpy - INFO - Indeed search page: 1\n",
      "2024-08-22 15:38:33,878 - JobSpy - INFO - LinkedIn search page: 1\n",
      "2024-08-22 15:38:34,446 - JobSpy - INFO - ZipRecruiter search page: 1\n",
      "2024-08-22 15:38:34,777 - JobSpy - INFO - Linkedin finished scraping\n",
      "2024-08-22 15:38:35,085 - JobSpy - INFO - Indeed finished scraping\n",
      "2024-08-22 15:38:35,696 - JobSpy - INFO - Glassdoor search page: 1\n",
      "2024-08-22 15:38:38,470 - JobSpy - INFO - ZipRecruiter finished scraping\n",
      "2024-08-22 15:38:42,364 - JobSpy - INFO - Glassdoor finished scraping\n"
     ]
    },
    {
     "name": "stdout",
     "output_type": "stream",
     "text": [
      "Found 4 jobs\n",
      "                       id           site  \\\n",
      "3           1009411580728      glassdoor   \n",
      "1        2bb17ebab6fe2ff1         indeed   \n",
      "0              4002140721       linkedin   \n",
      "2  e9Ocfk-AZdrNccwkacC7bA  zip_recruiter   \n",
      "\n",
      "                                             job_url  \\\n",
      "3  https://www.glassdoor.com/job-listing/j?jl=100...   \n",
      "1  https://www.indeed.com/viewjob?jk=2bb17ebab6fe...   \n",
      "0      https://www.linkedin.com/jobs/view/4002140721   \n",
      "2  https://www.ziprecruiter.com/jobs//j?lvk=e9Ocf...   \n",
      "\n",
      "                       job_url_direct  \\\n",
      "3                                 NaN   \n",
      "1  https://ameripros.net/careers.html   \n",
      "0                                 NaN   \n",
      "2                                 NaN   \n",
      "\n",
      "                                     title                 company  \\\n",
      "3       Staff Software Engineer - Frontend                 Datadog   \n",
      "1     Computer Software Engineer - Level 2  American Professionals   \n",
      "0  Software Engineer - Early Career (2025)                   Figma   \n",
      "2      Lead Software Engineer - Automation     JPMorgan Chase & Co   \n",
      "\n",
      "               location job_type date_posted salary_source  ...  \\\n",
      "3          New York, NY     None  2024-08-20   direct_data  ...   \n",
      "1    Piscataway, NJ, US     None  2023-04-03   direct_data  ...   \n",
      "0          New York, NY     None  2024-08-19           NaN  ...   \n",
      "2  Jersey City, NJ, USA     None  2024-08-16   direct_data  ...   \n",
      "\n",
      "                                         company_url  company_url_direct  \\\n",
      "3  https://www.glassdoor.com/Overview/W-EI_IE7620...                None   \n",
      "1  https://www.indeed.com/cmp/American-Professionals                None   \n",
      "0             https://www.linkedin.com/company/figma                None   \n",
      "2                                                NaN                None   \n",
      "\n",
      "   company_addresses company_num_employees company_revenue  \\\n",
      "3               None                  None            None   \n",
      "1               None                  None            None   \n",
      "0               None                  None            None   \n",
      "2               None                  None            None   \n",
      "\n",
      "  company_description                                     logo_photo_url  \\\n",
      "3                None  https://media.glassdoor.com/sql/762009/datadog...   \n",
      "1                None                                                NaN   \n",
      "0                None                                                NaN   \n",
      "2                None                                                NaN   \n",
      "\n",
      "  banner_photo_url ceo_name ceo_photo_url  \n",
      "3             None     None          None  \n",
      "1             None     None          None  \n",
      "0             None     None          None  \n",
      "2             None     None          None  \n",
      "\n",
      "[4 rows x 31 columns]\n"
     ]
    }
   ],
   "source": [
    "jobs = scrape_jobs(\n",
    "    site_name=[\"indeed\", \"linkedin\", \"zip_recruiter\", \"glassdoor\"],\n",
    "    search_term=\"software engineer\",\n",
    "    location=\"New York, NY\",\n",
    "    results_wanted=1,\n",
    "    hours_old=168, # (only Linkedin/Indeed is hour specific, others round up to days old)\n",
    "    country_indeed='USA',  # only needed for indeed / glassdoor\n",
    "    \n",
    "    # linkedin_fetch_description=True # get full description , direct job url , company industry and job level (seniority level) for linkedin (slower)\n",
    "    # proxies=[\"208.195.175.46:65095\", \"208.195.175.45:65095\", \"localhost\"],\n",
    "    \n",
    ")\n",
    "print(f\"Found {len(jobs)} jobs\")\n",
    "print(jobs.head())\n",
    "jobs.to_csv(\"../../data/raw/data1.csv\", quoting=csv.QUOTE_NONNUMERIC, escapechar=\"\\\\\", index=False) # to_excel"
   ]
  }
 ],
 "metadata": {
  "kernelspec": {
   "display_name": "Python 3 (ipykernel)",
   "language": "python",
   "name": "python3"
  },
  "language_info": {
   "codemirror_mode": {
    "name": "ipython",
    "version": 3
   },
   "file_extension": ".py",
   "mimetype": "text/x-python",
   "name": "python",
   "nbconvert_exporter": "python",
   "pygments_lexer": "ipython3",
   "version": "3.12.3"
  }
 },
 "nbformat": 4,
 "nbformat_minor": 2
}
