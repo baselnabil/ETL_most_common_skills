{
 "cells": [
  {
   "cell_type": "code",
   "execution_count": null,
   "metadata": {},
   "outputs": [],
   "source": [
    "import re\n",
    "import csv\n",
    "from jobspy import scrape_jobs\n",
    "import spacy\n",
    "from spacy import displacy\n",
    "from spacy.lang.en.stop_words import STOP_WORDS\n",
    "from spacy.matcher import PhraseMatcher\n",
    "\n",
    "from skillNer.general_params import SKILL_DB\n",
    "# import skill extractor\n",
    "from skillNer.skill_extractor_class import SkillExtractor\n",
    "\n",
    "from collections import Counter\n",
    "import math"
   ]
  },
  {
   "cell_type": "code",
   "execution_count": null,
   "metadata": {},
   "outputs": [],
   "source": [
    "\n",
    "jobs = scrape_jobs(\n",
    "    site_name=[\"indeed\", \"linkedin\", \"zip_recruiter\", \"glassdoor\"],\n",
    "    search_term=\"Data engineer\",\n",
    "    location=\"New York, NY\",\n",
    "    results_wanted=10,\n",
    "    hours_old=168, # (only Linkedin/Indeed is hour specific, others round up to days old)\n",
    "    country_indeed='USA',  # only needed for indeed / glassdoor\n",
    "    \n",
    "    # linkedin_fetch_description=True # get full description , direct job url , company industry and job level (seniority level) for linkedin (slower)\n",
    "    # proxies=[\"208.195.175.46:65095\", \"208.195.175.45:65095\", \"localhost\"],\n",
    "    \n",
    ")\n",
    "print(f\"Found {len(jobs)} jobs\")"
   ]
  },
  {
   "cell_type": "code",
   "execution_count": null,
   "metadata": {},
   "outputs": [],
   "source": [
    "print(jobs.loc[1].description)"
   ]
  },
  {
   "cell_type": "code",
   "execution_count": null,
   "metadata": {},
   "outputs": [],
   "source": [
    "nlpp = spacy.load(\"en_core_web_lg\")\n",
    "skill_extractor = SkillExtractor(nlpp, SKILL_DB, PhraseMatcher)\n",
    "skill_counter = Counter()\n",
    "\n",
    "descriptions = jobs['description'].dropna().tolist()\n",
    "\n",
    "for doc in nlpp.pipe(descriptions, batch_size=30): \n",
    "    try:\n",
    "        if not doc.text.strip():\n",
    "            continue\n",
    "        sanitized_text = re.sub(r'[^a-zA-Z\\s]', '', doc.text)\n",
    "        annotations = skill_extractor.annotate(sanitized_text)\n",
    "        \n",
    "        for item in annotations['results']['ngram_scored']:\n",
    "            skill = item['doc_node_value'].lower()\n",
    "            score = item['score']\n",
    "            toAddScore = math.floor(score)\n",
    "            if toAddScore == 0:\n",
    "              continue\n",
    "            skill_counter[skill] += toAddScore\n",
    "    except IndexError as e:\n",
    "        print(f\"Error processing description: {doc.text[:50]}...\") \n",
    "        continue\n",
    "    except ValueError as ee:\n",
    "        print(f\"Error processing description: {doc.text[:50]}...\") \n",
    "        continue\n",
    "skill_counter"
   ]
  },
  {
   "cell_type": "code",
   "execution_count": 12,
   "metadata": {},
   "outputs": [
    {
     "name": "stdout",
     "output_type": "stream",
     "text": [
      "Most common skills have been written to ../../data/raw/data3.csv\n"
     ]
    }
   ],
   "source": [
    "most_common_skills = skill_counter.most_common()\n",
    "\n",
    "output_file = '../../data/raw/data3.csv'\n",
    "\n",
    "with open(output_file, mode='w', newline='') as file:\n",
    "    writer = csv.writer(file)\n",
    "    \n",
    "    writer.writerow(['Skill', 'Count'])\n",
    "    \n",
    "    writer.writerows(most_common_skills)\n",
    "\n",
    "print(f\"Most common skills have been written to {output_file}\")"
   ]
  },
  {
   "cell_type": "code",
   "execution_count": null,
   "metadata": {},
   "outputs": [],
   "source": [
    "\n",
    "\n",
    "\n",
    "\n",
    "custom_stopwords = {\"knowledge\", \"comment\", \"degree\", \"experience\", \"good\", \"must\", \"solid\", \n",
    "                    \"understanding\", \"years\", \"working\", \"teams\", \"projects\", \"results\", \n",
    "                    \"responsibilities\", \"comments\", \"develop\", \"engineering\", \"systems\", \"tools\",\n",
    "                    \"development\", \"standards\", \"value\", \"cost\", \"generate\", \"needed\", \"documentation\", \"our\", \"your\"\n",
    "                    \"diagrams\", \"analyse\", \"business\", \"performance\", \"security\", \"methodology\", \"multidisciplinary areas\", \"all\",\n",
    "                    \"plus\", \"influence\", \"overall\", \"a must\", \"the standards\", \"all levels\", \"the\", \"why\", \"master\", \"customers\", \"a \", \"national\", \"veteran\"}\n",
    "\n",
    "#stopwords = STOP_WORDS.union(custom_stopwords)\n"
   ]
  },
  {
   "cell_type": "markdown",
   "metadata": {},
   "source": []
  }
 ],
 "metadata": {
  "kernelspec": {
   "display_name": "base",
   "language": "python",
   "name": "python3"
  },
  "language_info": {
   "codemirror_mode": {
    "name": "ipython",
    "version": 3
   },
   "file_extension": ".py",
   "mimetype": "text/x-python",
   "name": "python",
   "nbconvert_exporter": "python",
   "pygments_lexer": "ipython3",
   "version": "3.12.3"
  }
 },
 "nbformat": 4,
 "nbformat_minor": 2
}
