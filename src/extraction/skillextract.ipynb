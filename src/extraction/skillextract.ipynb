{
 "cells": [
  {
   "cell_type": "code",
   "execution_count": null,
   "metadata": {},
   "outputs": [],
   "source": [
    "import re\n",
    "import csv\n",
    "from jobspy import scrape_jobs\n",
    "import spacy\n",
    "from spacy import displacy\n",
    "from spacy.lang.en.stop_words import STOP_WORDS\n",
    "from spacy.matcher import PhraseMatcher\n",
    "\n",
    "from skillNer.general_params import SKILL_DB\n",
    "# import skill extractor\n",
    "from skillNer.skill_extractor_class import SkillExtractor\n",
    "\n",
    "from collections import Counter\n",
    "import math"
   ]
  },
  {
   "cell_type": "code",
   "execution_count": null,
   "metadata": {},
   "outputs": [],
   "source": [
    "\n",
    "jobs = scrape_jobs(\n",
    "    site_name=[\"indeed\", \"linkedin\"],\n",
    "    search_term=\"Data Engineer\",\n",
    "    location=\"Cairo, Egypt\",\n",
    "    results_wanted=20,\n",
    "    hours_old=72, # (only Linkedin/Indeed is hour specific, others round up to days old)\n",
    "    country_indeed='Egypt',  # only needed for indeed / glassdoor\n",
    "    \n",
    "    # linkedin_fetch_description=True # get full description , direct job url , company industry and job level (seniority level) for linkedin (slower)\n",
    "    # proxies=[\"208.195.175.46:65095\", \"208.195.175.45:65095\", \"localhost\"],\n",
    "    \n",
    ")\n",
    "print(f\"Found {len(jobs)} jobs\")\n",
    "jobs.to_csv(\"jobs.csv\", quoting=csv.QUOTE_NONNUMERIC, escapechar=\"\\\\\", index=False) # to_excel"
   ]
  },
  {
   "cell_type": "code",
   "execution_count": null,
   "metadata": {},
   "outputs": [],
   "source": [
    "print(jobs.loc[1].description)"
   ]
  },
  {
   "cell_type": "code",
   "execution_count": null,
   "metadata": {},
   "outputs": [],
   "source": [
    "def is_valid_description(description):\n",
    "    return description is not None and not (isinstance(description, float) and math.isnan(description))"
   ]
  },
  {
   "cell_type": "code",
   "execution_count": null,
   "metadata": {},
   "outputs": [],
   "source": [
    "nlpp = spacy.load(\"en_core_web_lg\")\n",
    "skill_extractor = SkillExtractor(nlpp, SKILL_DB, PhraseMatcher)\n",
    "skill_counter = Counter()\n",
    "\n",
    "for index, row in jobs.iterrows():\n",
    "    description = row['description']\n",
    "\n",
    "    if not is_valid_description(description):\n",
    "        continue\n",
    "\n",
    "    annotations = skill_extractor.annotate(description)\n",
    "    for item in annotations['results']['ngram_scored']:\n",
    "     skill = item['doc_node_value'].lower()\n",
    "     score = item['score']\n",
    "     skill_counter[skill] += math.floor(score)\n",
    "\n",
    "skill_counter"
   ]
  },
  {
   "cell_type": "code",
   "execution_count": null,
   "metadata": {},
   "outputs": [],
   "source": [
    "skill_counter.most_common()"
   ]
  },
  {
   "cell_type": "code",
   "execution_count": null,
   "metadata": {},
   "outputs": [],
   "source": [
    "\n",
    "\n",
    "\n",
    "\n",
    "custom_stopwords = {\"knowledge\", \"comment\", \"degree\", \"experience\", \"good\", \"must\", \"solid\", \n",
    "                    \"understanding\", \"years\", \"working\", \"teams\", \"projects\", \"results\", \n",
    "                    \"responsibilities\", \"comments\", \"develop\", \"engineering\", \"systems\", \"tools\",\n",
    "                    \"development\", \"standards\", \"value\", \"cost\", \"generate\", \"needed\", \"documentation\", \"our\", \"your\"\n",
    "                    \"diagrams\", \"analyse\", \"business\", \"performance\", \"security\", \"methodology\", \"multidisciplinary areas\", \"all\",\n",
    "                    \"plus\", \"influence\", \"overall\", \"a must\", \"the standards\", \"all levels\", \"the\", \"why\", \"master\", \"customers\", \"a \", \"national\", \"veteran\"}\n",
    "\n",
    "stopwords = STOP_WORDS.union(custom_stopwords)\n"
   ]
  },
  {
   "cell_type": "markdown",
   "metadata": {},
   "source": []
  }
 ],
 "metadata": {
  "kernelspec": {
   "display_name": "base",
   "language": "python",
   "name": "python3"
  },
  "language_info": {
   "codemirror_mode": {
    "name": "ipython",
    "version": 3
   },
   "file_extension": ".py",
   "mimetype": "text/x-python",
   "name": "python",
   "nbconvert_exporter": "python",
   "pygments_lexer": "ipython3",
   "version": "3.12.2"
  }
 },
 "nbformat": 4,
 "nbformat_minor": 2
}
