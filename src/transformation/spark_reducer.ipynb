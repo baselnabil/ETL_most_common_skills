{
 "cells": [
  {
   "cell_type": "code",
   "execution_count": 2,
   "metadata": {},
   "outputs": [],
   "source": [
    "from pyspark.sql import SparkSession\n",
    "from pyspark.sql.functions import sum"
   ]
  },
  {
   "cell_type": "code",
   "execution_count": 3,
   "metadata": {},
   "outputs": [
    {
     "name": "stderr",
     "output_type": "stream",
     "text": [
      "24/08/24 22:34:19 WARN Utils: Your hostname, basel resolves to a loopback address: 127.0.1.1; using 192.168.1.11 instead (on interface wlp3s0)\n",
      "24/08/24 22:34:19 WARN Utils: Set SPARK_LOCAL_IP if you need to bind to another address\n",
      "Setting default log level to \"WARN\".\n",
      "To adjust logging level use sc.setLogLevel(newLevel). For SparkR, use setLogLevel(newLevel).\n",
      "24/08/24 22:34:29 WARN NativeCodeLoader: Unable to load native-hadoop library for your platform... using builtin-java classes where applicable\n"
     ]
    }
   ],
   "source": [
    "spark = SparkSession.builder \\\n",
    "    .appName(\"ETL\") \\\n",
    "    .getOrCreate()"
   ]
  },
  {
   "cell_type": "code",
   "execution_count": 4,
   "metadata": {},
   "outputs": [],
   "source": [
    "data1 = spark.read.csv('../../data/raw/data2.csv',header=True, inferSchema=True)\n",
    "data2= spark.read.csv('../../data/raw/data3.csv',header=True,inferSchema=True)"
   ]
  },
  {
   "cell_type": "code",
   "execution_count": 16,
   "metadata": {},
   "outputs": [
    {
     "data": {
      "text/plain": [
       "423"
      ]
     },
     "execution_count": 16,
     "metadata": {},
     "output_type": "execute_result"
    }
   ],
   "source": [
    "## flatten and grouping the first data\n",
    "column_df=data1.select('skills')\n",
    "rdd = column_df.rdd.map(lambda row: row[0])\n",
    "splitted_rdd = rdd.flatMap(lambda line : line.split('·'))\n",
    "word_pairs1 = splitted_rdd.map(lambda word : (word.strip(),1))\n",
    "word_counted= word_pairs1.reduceByKey(lambda a ,b : a+b)\n"
   ]
  },
  {
   "cell_type": "code",
   "execution_count": 10,
   "metadata": {},
   "outputs": [
    {
     "data": {
      "text/plain": [
       "['(creativity: 1)',\n",
       " '(marketplace: 1)',\n",
       " '(develop applications: 2)',\n",
       " '(scale: 1)',\n",
       " '(athena: 1)',\n",
       " '(management: 6)',\n",
       " '(metadata: 2)',\n",
       " '(database engineer: 2)',\n",
       " '(data integrity: 2)',\n",
       " '(nosql: 2)',\n",
       " '(disabilities: 2)',\n",
       " '(data visualization: 4)',\n",
       " '(finance: 2)',\n",
       " '(data infrastructure: 2)',\n",
       " '(lina: 1)',\n",
       " '(etap: 2)',\n",
       " '(warehousing: 3)',\n",
       " '(design build: 2)',\n",
       " '(scientists healthcare: 4)',\n",
       " '(drawing: 2)',\n",
       " '(informatica: 1)',\n",
       " '(research: 5)',\n",
       " '(web services: 2)',\n",
       " '(forth: 1)',\n",
       " '(design information: 8)',\n",
       " '(big data: 2)',\n",
       " '(excellent business: 4)',\n",
       " '(authorization: 2)',\n",
       " '(leadership: 3)',\n",
       " '(infrastructure: 19)',\n",
       " '(data warehousing: 2)',\n",
       " '(backends: 1)',\n",
       " '(present design: 4)',\n",
       " '(autocad: 2)',\n",
       " '(read: 1)',\n",
       " '(catalogues: 1)',\n",
       " '(inform model: 2)',\n",
       " '(energy: 2)',\n",
       " '(tableau: 1)',\n",
       " '(data modelling data: 3)',\n",
       " '(ophthalmology: 1)',\n",
       " '(data science: 2)',\n",
       " '(troubleshooting: 2)',\n",
       " '(rehabilitation: 1)',\n",
       " '(integration: 1)',\n",
       " '(kinesis aws: 4)',\n",
       " '(data mart: 2)',\n",
       " '(colocation: 2)',\n",
       " '(data modeling: 12)',\n",
       " '(transportation energy: 4)',\n",
       " '(data models: 2)',\n",
       " '(automation: 1)',\n",
       " '(electrical engineer: 8)',\n",
       " '(data architecture: 4)',\n",
       " '(target: 1)',\n",
       " '(sql: 6)',\n",
       " '(scala: 2)',\n",
       " '(processes data: 4)',\n",
       " '(designs interact: 4)',\n",
       " '(reliability: 2)',\n",
       " '(urology: 1)',\n",
       " '(transparency: 5)',\n",
       " '(data: 4)',\n",
       " '(pe: 2)',\n",
       " '(ear: 1)',\n",
       " '(services provided: 4)',\n",
       " '(environment markets: 4)',\n",
       " '(redshift: 3)',\n",
       " '(floor plan: 4)',\n",
       " '(consulting: 2)',\n",
       " '(data engineer: 8)',\n",
       " '(wordpress: 1)',\n",
       " '(requisition: 1)',\n",
       " '(c: 1)',\n",
       " '(informatics: 1)',\n",
       " '(parsing: 1)',\n",
       " '(analytics: 6)',\n",
       " '(securing data: 2)',\n",
       " '(economics: 1)',\n",
       " '(data quality: 8)',\n",
       " '(modeling decisions: 4)',\n",
       " '(teamwork: 3)',\n",
       " '(continuously integrate: 2)',\n",
       " '(building tools: 2)',\n",
       " '(data normalization: 2)',\n",
       " '(scripting: 1)',\n",
       " '(geriatrics: 2)',\n",
       " '(flume: 1)',\n",
       " '(revit: 4)',\n",
       " '(operations: 1)',\n",
       " '(data sourcing: 2)',\n",
       " '(hipaa: 3)',\n",
       " '(dataflow: 1)',\n",
       " '(dynamodb: 1)',\n",
       " '(nursing: 1)',\n",
       " '(construction: 6)',\n",
       " '(data security: 4)',\n",
       " '(data engineering: 12)',\n",
       " '(quicksight: 1)',\n",
       " '(dm: 1)',\n",
       " '(b: 1)',\n",
       " '(telecommunications: 2)',\n",
       " '(kinesis: 3)',\n",
       " '(microstrategy: 1)',\n",
       " '(java: 1)',\n",
       " '(transformation: 1)',\n",
       " '(planning: 3)',\n",
       " '(voltage: 2)',\n",
       " '(r: 1)',\n",
       " '(investigation: 2)',\n",
       " '(agility: 1)',\n",
       " '(surgery: 3)',\n",
       " '(analytics business: 2)',\n",
       " '(sustainability: 1)',\n",
       " '(diagrams: 3)',\n",
       " '(personalized medicine: 2)',\n",
       " '(scalability: 1)',\n",
       " '(data migration: 4)',\n",
       " '(python: 2)',\n",
       " '(software engineers: 2)',\n",
       " '(vulnerability: 1)',\n",
       " '(calculations: 2)',\n",
       " '(orthopedics: 1)',\n",
       " '(datanet: 1)',\n",
       " '(data governance: 6)',\n",
       " '(organize standardize: 2)',\n",
       " '(policies develop: 2)',\n",
       " '(skm: 2)']"
      ]
     },
     "execution_count": 10,
     "metadata": {},
     "output_type": "execute_result"
    }
   ],
   "source": [
    "df2= data2.groupBy(\"Skill\").agg(sum(\"Count\").alias(\"Total_count\"))\n",
    "word_pairs2 = df2.rdd.map(lambda row: f\"({row['Skill']}: {row['Total_count']})\")\n"
   ]
  },
  {
   "cell_type": "code",
   "execution_count": 22,
   "metadata": {},
   "outputs": [],
   "source": [
    "union_rdd= word_pairs1.union(word_counted)\n",
    "union_rdd.save('../../data/transformed/data_final2')"
   ]
  },
  {
   "cell_type": "code",
   "execution_count": 29,
   "metadata": {},
   "outputs": [],
   "source": [
    "union_rdd_df = union_rdd.toDF(['skill','count'])\n",
    "union_rdd_df.collect()\n",
    "union_rdd_df.coalesce(1).write.csv('../../data/transformed/data_final',header=True)"
   ]
  }
 ],
 "metadata": {
  "kernelspec": {
   "display_name": "env",
   "language": "python",
   "name": "python3"
  },
  "language_info": {
   "codemirror_mode": {
    "name": "ipython",
    "version": 3
   },
   "file_extension": ".py",
   "mimetype": "text/x-python",
   "name": "python",
   "nbconvert_exporter": "python",
   "pygments_lexer": "ipython3",
   "version": "3.12.3"
  }
 },
 "nbformat": 4,
 "nbformat_minor": 2
}
