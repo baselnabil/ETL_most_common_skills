{
 "cells": [
  {
   "cell_type": "code",
   "execution_count": null,
   "metadata": {},
   "outputs": [],
   "source": [
    "from pyspark.sql import SparkSession"
   ]
  },
  {
   "cell_type": "code",
   "execution_count": null,
   "metadata": {},
   "outputs": [],
   "source": [
    "spark = SparkSession.builder \\\n",
    "    .appName(\"ETL\") \\\n",
    "    .getOrCreate()"
   ]
  },
  {
   "cell_type": "code",
   "execution_count": 17,
   "metadata": {},
   "outputs": [
    {
     "name": "stdout",
     "output_type": "stream",
     "text": [
      "+--------------------------------------------------------------------------------------------------------------------------------------------------------------------------------------------------------------------------------------------------------------------------------------------------------------------------------------------------------------------------------------------------------------------------------------------------+\n",
      "|\"id\",\"site\",\"job_url\",\"job_url_direct\",\"title\",\"company\",\"location\",\"job_type\",\"date_posted\",\"salary_source\",\"interval\",\"min_amount\",\"max_amount\",\"currency\",\"is_remote\",\"job_level\",\"job_function\",\"company_industry\",\"listing_type\",\"emails\",\"description\",\"company_url\",\"company_url_direct\",\"company_addresses\",\"company_num_employees\",\"company_revenue\",\"company_description\",\"logo_photo_url\",\"banner_photo_url\",\"ceo_name\",\"ceo_photo_url\"|\n",
      "+--------------------------------------------------------------------------------------------------------------------------------------------------------------------------------------------------------------------------------------------------------------------------------------------------------------------------------------------------------------------------------------------------------------------------------------------------+\n",
      "|                                                                                                                                                                                                                                                                                                                                                                                                                              \"1009411580728\",\"...|\n",
      "|                                                                                                                                                                                                                                                                                                                                                                                                                              Data Observabilit...|\n",
      "|                                                                                                                                                                                                                                                                                                                                                                                                                              As a Staff Engine...|\n",
      "|                                                                                                                                                                                                                                                                                                                                                                                                                              At Datadog, we va...|\n",
      "|                                                                                                                                                                                                                                                                                                                                                                                                                               **What You'll Do:**|\n",
      "|                                                                                                                                                                                                                                                                                                                                                                                                                              * Encourage and d...|\n",
      "|                                                                                                                                                                                                                                                                                                                                                                                                                              * Go 0 to 1 on th...|\n",
      "|                                                                                                                                                                                                                                                                                                                                                                                                                              * Design and driv...|\n",
      "|                                                                                                                                                                                                                                                                                                                                                                                                                              * Provide technic...|\n",
      "|                                                                                                                                                                                                                                                                                                                                                                                                                              * Lead and guide ...|\n",
      "|                                                                                                                                                                                                                                                                                                                                                                                                                              * Impact the dire...|\n",
      "|                                                                                                                                                                                                                                                                                                                                                                                                                                  **Who You Are:**|\n",
      "|                                                                                                                                                                                                                                                                                                                                                                                                                              * You have built ...|\n",
      "|                                                                                                                                                                                                                                                                                                                                                                                                                              * You tirelessly ...|\n",
      "|                                                                                                                                                                                                                                                                                                                                                                                                                              * You have a stro...|\n",
      "|                                                                                                                                                                                                                                                                                                                                                                                                                              * You are find an...|\n",
      "|                                                                                                                                                                                                                                                                                                                                                                                                                              * You enjoy mento...|\n",
      "|                                                                                                                                                                                                                                                                                                                                                                                                                                **About Datadog:**|\n",
      "|                                                                                                                                                                                                                                                                                                                                                                                                                              Datadog (NASDAQ: ...|\n",
      "|                                                                                                                                                                                                                                                                                                                                                                                                                              **Equal Opportuni...|\n",
      "+--------------------------------------------------------------------------------------------------------------------------------------------------------------------------------------------------------------------------------------------------------------------------------------------------------------------------------------------------------------------------------------------------------------------------------------------------+\n",
      "only showing top 20 rows\n",
      "\n"
     ]
    }
   ],
   "source": [
    "df = spark.read.csv('../../data/raw/data1.csv',header=True, inferSchema=True, quote='\"', escape=\"\\\\\")\n",
    "df.show()"
   ]
  },
  {
   "cell_type": "code",
   "execution_count": 15,
   "metadata": {},
   "outputs": [
    {
     "name": "stdout",
     "output_type": "stream",
     "text": [
      "+--------------------+--------------------+--------------------+--------------------+--------------------+--------------------+--------------------+--------------------+-----------+--------------------+----------+--------------------+-----------------+--------------------+---------+--------------------+------------+----------------+------------+------+-----------+------------------+-----------------+---------------------+---------------+-------------------+--------------+----------------+--------+-------------+\n",
      "|                  id|                site|             job_url|      job_url_direct|               title|             company|            location|            job_type|date_posted|       salary_source|  interval|          min_amount|       max_amount|            currency|is_remote|           job_level|job_function|company_industry|listing_type|emails|company_url|company_url_direct|company_addresses|company_num_employees|company_revenue|company_description|logo_photo_url|banner_photo_url|ceo_name|ceo_photo_url|\n",
      "+--------------------+--------------------+--------------------+--------------------+--------------------+--------------------+--------------------+--------------------+-----------+--------------------+----------+--------------------+-----------------+--------------------+---------+--------------------+------------+----------------+------------+------+-----------+------------------+-----------------+---------------------+---------------+-------------------+--------------+----------------+--------+-------------+\n",
      "|       1009411580728|           glassdoor|https://www.glass...|                NULL|Staff Software En...|             Datadog|        New York, NY|                NULL| 2024-08-20|         direct_data|    yearly|            234000.0|         300000.0|                 USD|    False|                NULL|        NULL|            NULL|     organic|  NULL|       NULL|              NULL|             NULL|                 NULL|           NULL|               NULL|          NULL|            NULL|    NULL|         NULL|\n",
      "|Data Observabilit...|             monitor| and understand t...|                jobs| and datasets. We...|             scaling| and future custo...|                NULL|       NULL|                NULL|      NULL|                NULL|             NULL|                NULL|     NULL|                NULL|        NULL|            NULL|        NULL|  NULL|       NULL|              NULL|             NULL|                 NULL|           NULL|               NULL|          NULL|            NULL|    NULL|         NULL|\n",
      "| As a Staff Engineer| you will drive a...|                NULL|                NULL|                NULL|                NULL|                NULL|                NULL|       NULL|                NULL|      NULL|                NULL|             NULL|                NULL|     NULL|                NULL|        NULL|            NULL|        NULL|  NULL|       NULL|              NULL|             NULL|                 NULL|           NULL|               NULL|          NULL|            NULL|    NULL|         NULL|\n",
      "|          At Datadog| we value our off...|                NULL|                NULL|                NULL|                NULL|                NULL|                NULL|       NULL|                NULL|      NULL|                NULL|             NULL|                NULL|     NULL|                NULL|        NULL|            NULL|        NULL|  NULL|       NULL|              NULL|             NULL|                 NULL|           NULL|               NULL|          NULL|            NULL|    NULL|         NULL|\n",
      "| **What You'll Do:**|                NULL|                NULL|                NULL|                NULL|                NULL|                NULL|                NULL|       NULL|                NULL|      NULL|                NULL|             NULL|                NULL|     NULL|                NULL|        NULL|            NULL|        NULL|  NULL|       NULL|              NULL|             NULL|                 NULL|           NULL|               NULL|          NULL|            NULL|    NULL|         NULL|\n",
      "|* Encourage and d...| helping to maint...|                NULL|                NULL|                NULL|                NULL|                NULL|                NULL|       NULL|                NULL|      NULL|                NULL|             NULL|                NULL|     NULL|                NULL|        NULL|            NULL|        NULL|  NULL|       NULL|              NULL|             NULL|                 NULL|           NULL|               NULL|          NULL|            NULL|    NULL|         NULL|\n",
      "|* Go 0 to 1 on th...| showing customer...|                NULL|                NULL|                NULL|                NULL|                NULL|                NULL|       NULL|                NULL|      NULL|                NULL|             NULL|                NULL|     NULL|                NULL|        NULL|            NULL|        NULL|  NULL|       NULL|              NULL|             NULL|                 NULL|           NULL|               NULL|          NULL|            NULL|    NULL|         NULL|\n",
      "|* Design and driv...| high-visibility ...|          resilience|         scalability| and user experie...|                NULL|                NULL|                NULL|       NULL|                NULL|      NULL|                NULL|             NULL|                NULL|     NULL|                NULL|        NULL|            NULL|        NULL|  NULL|       NULL|              NULL|             NULL|                 NULL|           NULL|               NULL|          NULL|            NULL|    NULL|         NULL|\n",
      "|* Provide technic...|          mentorship| and grow enginee...|                NULL|                NULL|                NULL|                NULL|                NULL|       NULL|                NULL|      NULL|                NULL|             NULL|                NULL|     NULL|                NULL|        NULL|            NULL|        NULL|  NULL|       NULL|              NULL|             NULL|                 NULL|           NULL|               NULL|          NULL|            NULL|    NULL|         NULL|\n",
      "|* Lead and guide ...| finding the high...|                NULL|                NULL|                NULL|                NULL|                NULL|                NULL|       NULL|                NULL|      NULL|                NULL|             NULL|                NULL|     NULL|                NULL|        NULL|            NULL|        NULL|  NULL|       NULL|              NULL|             NULL|                 NULL|           NULL|               NULL|          NULL|            NULL|    NULL|         NULL|\n",
      "|* Impact the dire...|                NULL|                NULL|                NULL|                NULL|                NULL|                NULL|                NULL|       NULL|                NULL|      NULL|                NULL|             NULL|                NULL|     NULL|                NULL|        NULL|            NULL|        NULL|  NULL|       NULL|              NULL|             NULL|                 NULL|           NULL|               NULL|          NULL|            NULL|    NULL|         NULL|\n",
      "|    **Who You Are:**|                NULL|                NULL|                NULL|                NULL|                NULL|                NULL|                NULL|       NULL|                NULL|      NULL|                NULL|             NULL|                NULL|     NULL|                NULL|        NULL|            NULL|        NULL|  NULL|       NULL|              NULL|             NULL|                 NULL|           NULL|               NULL|          NULL|            NULL|    NULL|         NULL|\n",
      "|* You have built ...|                NULL|                NULL|                NULL|                NULL|                NULL|                NULL|                NULL|       NULL|                NULL|      NULL|                NULL|             NULL|                NULL|     NULL|                NULL|        NULL|            NULL|        NULL|  NULL|       NULL|              NULL|             NULL|                 NULL|           NULL|               NULL|          NULL|            NULL|    NULL|         NULL|\n",
      "|* You tirelessly ...| always putting t...|                NULL|                NULL|                NULL|                NULL|                NULL|                NULL|       NULL|                NULL|      NULL|                NULL|             NULL|                NULL|     NULL|                NULL|        NULL|            NULL|        NULL|  NULL|       NULL|              NULL|             NULL|                 NULL|           NULL|               NULL|          NULL|            NULL|    NULL|         NULL|\n",
      "|* You have a stro...| doing what's nee...|                NULL|                NULL|                NULL|                NULL|                NULL|                NULL|       NULL|                NULL|      NULL|                NULL|             NULL|                NULL|     NULL|                NULL|        NULL|            NULL|        NULL|  NULL|       NULL|              NULL|             NULL|                 NULL|           NULL|               NULL|          NULL|            NULL|    NULL|         NULL|\n",
      "|* You are find an...|                NULL|                NULL|                NULL|                NULL|                NULL|                NULL|                NULL|       NULL|                NULL|      NULL|                NULL|             NULL|                NULL|     NULL|                NULL|        NULL|            NULL|        NULL|  NULL|       NULL|              NULL|             NULL|                 NULL|           NULL|               NULL|          NULL|            NULL|    NULL|         NULL|\n",
      "|* You enjoy mento...|                NULL|                NULL|                NULL|                NULL|                NULL|                NULL|                NULL|       NULL|                NULL|      NULL|                NULL|             NULL|                NULL|     NULL|                NULL|        NULL|            NULL|        NULL|  NULL|       NULL|              NULL|             NULL|                 NULL|           NULL|               NULL|          NULL|            NULL|    NULL|         NULL|\n",
      "|  **About Datadog:**|                NULL|                NULL|                NULL|                NULL|                NULL|                NULL|                NULL|       NULL|                NULL|      NULL|                NULL|             NULL|                NULL|     NULL|                NULL|        NULL|            NULL|        NULL|  NULL|       NULL|              NULL|             NULL|                 NULL|           NULL|               NULL|          NULL|            NULL|    NULL|         NULL|\n",
      "|Datadog (NASDAQ: ...| delivering a rar...|     cloud migration| and infrastructu...|       for engineers| Datadog is used ...| we champion prof...| diversity of tho...| innovation| and work excelle...| pragmatic| and thoughtful p...| take smart risks| and celebrate on...| LinkedIn| and Datadog Lear...|        NULL|            NULL|        NULL|  NULL|       NULL|              NULL|             NULL|                 NULL|           NULL|               NULL|          NULL|            NULL|    NULL|         NULL|\n",
      "|**Equal Opportuni...|                NULL|                NULL|                NULL|                NULL|                NULL|                NULL|                NULL|       NULL|                NULL|      NULL|                NULL|             NULL|                NULL|     NULL|                NULL|        NULL|            NULL|        NULL|  NULL|       NULL|              NULL|             NULL|                 NULL|           NULL|               NULL|          NULL|            NULL|    NULL|         NULL|\n",
      "+--------------------+--------------------+--------------------+--------------------+--------------------+--------------------+--------------------+--------------------+-----------+--------------------+----------+--------------------+-----------------+--------------------+---------+--------------------+------------+----------------+------------+------+-----------+------------------+-----------------+---------------------+---------------+-------------------+--------------+----------------+--------+-------------+\n",
      "only showing top 20 rows\n",
      "\n"
     ]
    }
   ],
   "source": [
    "df2= df.drop(\"description\")\n",
    "df2.show()"
   ]
  }
 ],
 "metadata": {
  "kernelspec": {
   "display_name": "env",
   "language": "python",
   "name": "python3"
  },
  "language_info": {
   "codemirror_mode": {
    "name": "ipython",
    "version": 3
   },
   "file_extension": ".py",
   "mimetype": "text/x-python",
   "name": "python",
   "nbconvert_exporter": "python",
   "pygments_lexer": "ipython3",
   "version": "3.12.3"
  }
 },
 "nbformat": 4,
 "nbformat_minor": 2
}
