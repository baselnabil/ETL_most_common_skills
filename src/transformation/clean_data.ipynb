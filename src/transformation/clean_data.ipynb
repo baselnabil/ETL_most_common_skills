{
 "cells": [
  {
   "cell_type": "code",
   "execution_count": null,
   "metadata": {},
   "outputs": [],
   "source": [
    "from pyspark.sql import SparkSession\n",
    "from pyspark.sql.functions import sum"
   ]
  },
  {
   "cell_type": "code",
   "execution_count": null,
   "metadata": {},
   "outputs": [],
   "source": [
    "spark = SparkSession.builder \\\n",
    "    .appName(\"ETL\") \\\n",
    "    .getOrCreate()"
   ]
  },
  {
   "cell_type": "code",
   "execution_count": 38,
   "metadata": {},
   "outputs": [],
   "source": [
    "data1 = spark.read.csv('../../data/raw/data2.csv',header=True, inferSchema=True)\n",
    "data2= spark.read.csv('../../data/raw/data3.csv',header=True,inferSchema=True)"
   ]
  },
  {
   "cell_type": "code",
   "execution_count": null,
   "metadata": {},
   "outputs": [],
   "source": [
    "## flatten and grouping the first data\n",
    "column_df=df.select('skills')\n",
    "rdd = column_df.rdd.map(lambda row: row[0])\n",
    "splitted_rdd = rdd.flatMap(lambda line : line.split('·'))\n",
    "word_pairs = splitted_rdd.map(lambda word : (word,1))\n",
    "word_count= word_pairs.reduceByKey(lambda a ,b : a+b)\n",
    "word_count.saveAsTextFile('../../data/transformed/data1')"
   ]
  },
  {
   "cell_type": "code",
   "execution_count": 46,
   "metadata": {},
   "outputs": [],
   "source": [
    "df2= data2.groupBy(\"Skill\").agg(sum(\"Count\").alias(\"Total_count\"))\n",
    "result_rdd = df2.rdd.map(lambda row: f\"({row['Skill']}: {row['Total_count']})\")\n",
    "result_rdd.coalesce(1).saveAsTextFile('../../data/transformed/data3')\n"
   ]
  },
  {
   "cell_type": "code",
   "execution_count": null,
   "metadata": {},
   "outputs": [],
   "source": []
  }
 ],
 "metadata": {
  "kernelspec": {
   "display_name": "env",
   "language": "python",
   "name": "python3"
  },
  "language_info": {
   "codemirror_mode": {
    "name": "ipython",
    "version": 3
   },
   "file_extension": ".py",
   "mimetype": "text/x-python",
   "name": "python",
   "nbconvert_exporter": "python",
   "pygments_lexer": "ipython3",
   "version": "3.12.3"
  }
 },
 "nbformat": 4,
 "nbformat_minor": 2
}
