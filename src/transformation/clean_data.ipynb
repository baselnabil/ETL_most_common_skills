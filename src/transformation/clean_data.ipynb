{
 "cells": [
  {
   "cell_type": "code",
   "execution_count": 1,
   "metadata": {},
   "outputs": [],
   "source": [
    "from pyspark.sql import SparkSession\n",
    "from pyspark.sql import SQLContext"
   ]
  },
  {
   "cell_type": "code",
   "execution_count": 2,
   "metadata": {},
   "outputs": [
    {
     "name": "stderr",
     "output_type": "stream",
     "text": [
      "24/08/23 15:56:29 WARN Utils: Your hostname, basel resolves to a loopback address: 127.0.1.1; using 192.168.1.11 instead (on interface wlp3s0)\n",
      "24/08/23 15:56:29 WARN Utils: Set SPARK_LOCAL_IP if you need to bind to another address\n",
      "Setting default log level to \"WARN\".\n",
      "To adjust logging level use sc.setLogLevel(newLevel). For SparkR, use setLogLevel(newLevel).\n",
      "24/08/23 15:56:39 WARN NativeCodeLoader: Unable to load native-hadoop library for your platform... using builtin-java classes where applicable\n"
     ]
    }
   ],
   "source": [
    "spark = SparkSession.builder \\\n",
    "    .appName(\"ETL\") \\\n",
    "    .getOrCreate()"
   ]
  },
  {
   "cell_type": "code",
   "execution_count": 14,
   "metadata": {},
   "outputs": [
    {
     "name": "stdout",
     "output_type": "stream",
     "text": [
      "+--------------------+--------------------+--------------------+--------------------+\n",
      "|            Jobtitle|         Companyname|           Locations|              Skills|\n",
      "+--------------------+--------------------+--------------------+--------------------+\n",
      "|    Python Developer|             Afaqy -|Maadi, Cairo, Egypt |Experienced · 1 -...|\n",
      "|   Python Instructor|Algorithmics 6 of...|6th of October, G...|Entry Level · 0 -...|\n",
      "|Senior Full-Stack...|               RDI -| Dokki, Giza, Egypt |Experienced · 5 -...|\n",
      "|DAZU Pay - Python...|  Bright Creations -|Smart Village, Gi...|Entry Level · 2+ ...|\n",
      "|Junior Python Dev...|               RDI -| Dokki, Giza, Egypt |Entry Level · 1 -...|\n",
      "|Technical Lead (P...|       Money Loop  -|New Cairo, Cairo,...|Manager · 8 - 15 ...|\n",
      "|    Python Developer|         Digizilla -|       Cairo, Egypt |Entry Level · 0 -...|\n",
      "|Data Analyst Lead...|            WUZZUF -|Maadi, Cairo, Egypt |Manager · 7 - 15 ...|\n",
      "|      Odoo Developer|ENAYA CARE INTERN...|Jeddah, Saudi Ara...|Experienced · 3 -...|\n",
      "|Machine Learning ...|             Afaqy -|Maadi, Cairo, Egypt |Experienced · 2 -...|\n",
      "|Linux Systems Adm...|      HorizonTechs -|       Cairo, Egypt |Experienced · 2 -...|\n",
      "|      Odoo Developer|Awamer Alshabaka ...|Mansoura, Dakahli...|Experienced · 2 -...|\n",
      "| Javascript Engineer|       Constructor -|San Francisco, Un...|Experienced · 3 -...|\n",
      "|Odoo ERP Implementer|      Confidential -|Sheraton, Cairo, ...|Entry Level · 1 -...|\n",
      "|       Data Engineer|      Coformatique -|       Cairo, Egypt |Experienced · 2 -...|\n",
      "|   Software Engineer|    LemonTree Labs -|Downtown, Cairo, ...|Entry Level · 1 -...|\n",
      "|System Administra...|      Confidential -|Heliopolis, Cairo...|Experienced · 3 -...|\n",
      "|Senior Odoo devel...|       Pure Group  -|       Cairo, Egypt |Experienced · 3+ ...|\n",
      "|      Odoo Developer|  Al Hayat Capital -|Mokattam, Cairo, ...|Experienced · 2 -...|\n",
      "|        Data Analyst|         ECC Group -|Nasr City, Cairo,...|Experienced · 1 -...|\n",
      "+--------------------+--------------------+--------------------+--------------------+\n",
      "only showing top 20 rows\n",
      "\n"
     ]
    }
   ],
   "source": [
    "df = spark.read.csv('../../data/raw/data2.csv',header=True, inferSchema=True)\n",
    "df.show()"
   ]
  },
  {
   "cell_type": "code",
   "execution_count": 33,
   "metadata": {},
   "outputs": [],
   "source": [
    "column_df=df.select('skills')\n",
    "rdd = column_df.rdd.map(lambda row: row[0])\n",
    "splitted_rdd = rdd.flatMap(lambda line : line.split('·'))\n",
    "word_pairs = splitted_rdd.map(lambda word : (word,1))\n",
    "word_count= word_pairs.reduceByKey(lambda a ,b : a+b)\n",
    "word_count.saveAsTextFile('../../data/transformed/data1')"
   ]
  }
 ],
 "metadata": {
  "kernelspec": {
   "display_name": "env",
   "language": "python",
   "name": "python3"
  },
  "language_info": {
   "codemirror_mode": {
    "name": "ipython",
    "version": 3
   },
   "file_extension": ".py",
   "mimetype": "text/x-python",
   "name": "python",
   "nbconvert_exporter": "python",
   "pygments_lexer": "ipython3",
   "version": "3.12.3"
  }
 },
 "nbformat": 4,
 "nbformat_minor": 2
}
